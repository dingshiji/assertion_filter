{
 "cells": [
  {
   "cell_type": "code",
   "execution_count": 1,
   "metadata": {},
   "outputs": [],
   "source": [
    "import json\n",
    "import re\n",
    "import os\n"
   ]
  },
  {
   "cell_type": "code",
   "execution_count": 3,
   "metadata": {},
   "outputs": [],
   "source": [
    "fp = '../output/top-30_all.json'"
   ]
  },
  {
   "cell_type": "code",
   "execution_count": 5,
   "metadata": {},
   "outputs": [],
   "source": [
    "with open(fp,'r',encoding='utf-8') as f:\n",
    "    data = json.load(f)"
   ]
  },
  {
   "cell_type": "code",
   "execution_count": 6,
   "metadata": {},
   "outputs": [],
   "source": [
    "for k in list(data.keys()):\n",
    "    if data[k] == \"Unknown assertion type\":\n",
    "        data.pop(k)"
   ]
  },
  {
   "cell_type": "markdown",
   "metadata": {},
   "source": [
    "这里有一个坑, 之前这个地方用了toString, 比较的时候是和\"true\"比"
   ]
  },
  {
   "cell_type": "code",
   "execution_count": 10,
   "metadata": {},
   "outputs": [],
   "source": [
    "cnt = 0\n",
    "t,f = 0,0\n",
    "for k,v in data.items():\n",
    "    # print(k)\n",
    "    result = json.loads(v)\n",
    "    # for k1,v1 in result.items():\n",
    "    #     print(k1)\n",
    "    if result.__contains__('correct answer'):\n",
    "        if result['correct answer'] == \"true\":\n",
    "            t += 1\n",
    "        else:\n",
    "            f += 1\n",
    "    cnt += 1"
   ]
  },
  {
   "cell_type": "code",
   "execution_count": 11,
   "metadata": {},
   "outputs": [
    {
     "name": "stdout",
     "output_type": "stream",
     "text": [
      "cnt:269370 t:2056 f:50344\n"
     ]
    }
   ],
   "source": [
    "print('cnt:{} t:{} f:{}'.format(cnt,t,f))"
   ]
  },
  {
   "cell_type": "markdown",
   "metadata": {},
   "source": [
    "假设我们通过某种类型的assertion \n",
    "看看它有多少是correct answer. \n",
    "以及不正确时, 它分别属于多少个test_prefix. "
   ]
  }
 ],
 "metadata": {
  "kernelspec": {
   "display_name": "Python 3.8.10 64-bit",
   "language": "python",
   "name": "python3"
  },
  "language_info": {
   "codemirror_mode": {
    "name": "ipython",
    "version": 3
   },
   "file_extension": ".py",
   "mimetype": "text/x-python",
   "name": "python",
   "nbconvert_exporter": "python",
   "pygments_lexer": "ipython3",
   "version": "3.8.10"
  },
  "orig_nbformat": 4,
  "vscode": {
   "interpreter": {
    "hash": "f4308f3a76128f8bf2d98029056cd9dfb9c4ec7324f52a9ce0d0dd71fb2144ad"
   }
  }
 },
 "nbformat": 4,
 "nbformat_minor": 2
}
