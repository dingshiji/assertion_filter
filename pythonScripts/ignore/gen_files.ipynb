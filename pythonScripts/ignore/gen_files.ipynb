{
 "cells": [
  {
   "cell_type": "code",
   "execution_count": 3,
   "metadata": {},
   "outputs": [],
   "source": [
    "import json\n",
    "import os\n",
    "import re\n"
   ]
  },
  {
   "cell_type": "code",
   "execution_count": 8,
   "metadata": {},
   "outputs": [],
   "source": [
    "FILE_PATH = '../Top-30-lower.txt'\n",
    "OUT_PATH = '../src/main/resources/full_test/'"
   ]
  },
  {
   "cell_type": "code",
   "execution_count": 11,
   "metadata": {},
   "outputs": [],
   "source": [
    "data = []\n",
    "with open(FILE_PATH, 'r') as f:\n",
    "    lines  = f.readlines()\n",
    "\n",
    "for line in lines:\n",
    "    data.append(json.loads(line))"
   ]
  },
  {
   "cell_type": "code",
   "execution_count": 12,
   "metadata": {},
   "outputs": [],
   "source": [
    "def add_fm_param(fm):\n",
    "    lp = fm.find('{')\n",
    "    body = fm[lp:]\n",
    "    # print(body)\n",
    "    signature = fm.split('{')[0]\n",
    "    # print(signature)\n",
    "    name = signature.split('(')[0].strip()\n",
    "    params = signature.split('(')[1].split(')')[0].split(',')\n",
    "    params_new = [x+' var24678 ' for x in params if x.strip() != '']\n",
    "    params_new = ','.join(params_new)\n",
    "    return name+'('+params_new+')' +' '+ body\n"
   ]
  },
  {
   "cell_type": "code",
   "execution_count": 13,
   "metadata": {},
   "outputs": [
    {
     "name": "stdout",
     "output_type": "stream",
     "text": [
      "get( Topic  var24678 , hahah var24678 ,sdjfkjk  var24678 ) { return this . t ; }\n"
     ]
    }
   ],
   "source": [
    "fm = 'get ( Topic , hahah,sdjfkjk ) { return this . t ; }'\n",
    "fm = add_fm_param(fm)\n",
    "print(fm)"
   ]
  },
  {
   "cell_type": "code",
   "execution_count": 14,
   "metadata": {},
   "outputs": [
    {
     "ename": "SyntaxError",
     "evalue": "unexpected EOF while parsing (2067746674.py, line 1)",
     "output_type": "error",
     "traceback": [
      "\u001b[1;36m  Cell \u001b[1;32mIn [14], line 1\u001b[1;36m\u001b[0m\n\u001b[1;33m    def write2file(k,v, idx):\u001b[0m\n\u001b[1;37m                             ^\u001b[0m\n\u001b[1;31mSyntaxError\u001b[0m\u001b[1;31m:\u001b[0m unexpected EOF while parsing\n"
     ]
    }
   ],
   "source": [
    "tests = {}\n",
    "\n",
    "def write2file(k,v, idx):\n",
    "     "
   ]
  },
  {
   "cell_type": "code",
   "execution_count": null,
   "metadata": {},
   "outputs": [],
   "source": [
    "idx = 0\n",
    "for k, v in enumerate(data):\n",
    "    idx += 1\n",
    "    write2file(k, v, idx)\n",
    "    if idx == 100:\n",
    "        break\n"
   ]
  }
 ],
 "metadata": {
  "kernelspec": {
   "display_name": "Python 3.8.10 64-bit",
   "language": "python",
   "name": "python3"
  },
  "language_info": {
   "codemirror_mode": {
    "name": "ipython",
    "version": 3
   },
   "file_extension": ".py",
   "mimetype": "text/x-python",
   "name": "python",
   "nbconvert_exporter": "python",
   "pygments_lexer": "ipython3",
   "version": "3.8.10"
  },
  "orig_nbformat": 4,
  "vscode": {
   "interpreter": {
    "hash": "f4308f3a76128f8bf2d98029056cd9dfb9c4ec7324f52a9ce0d0dd71fb2144ad"
   }
  }
 },
 "nbformat": 4,
 "nbformat_minor": 2
}
